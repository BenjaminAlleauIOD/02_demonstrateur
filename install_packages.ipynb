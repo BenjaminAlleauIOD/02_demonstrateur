{
 "cells": [
  {
   "cell_type": "code",
   "execution_count": 1,
   "metadata": {},
   "outputs": [
    {
     "name": "stdout",
     "output_type": "stream",
     "text": [
      "Requirement already satisfied: pandas in c:\\users\\benja\\documents\\projets\\02_demonstrateur\\.venv\\lib\\site-packages (2.0.2)\n",
      "Requirement already satisfied: python-dateutil>=2.8.2 in c:\\users\\benja\\documents\\projets\\02_demonstrateur\\.venv\\lib\\site-packages (from pandas) (2.8.2)\n",
      "Requirement already satisfied: pytz>=2020.1 in c:\\users\\benja\\documents\\projets\\02_demonstrateur\\.venv\\lib\\site-packages (from pandas) (2023.3)\n",
      "Requirement already satisfied: tzdata>=2022.1 in c:\\users\\benja\\documents\\projets\\02_demonstrateur\\.venv\\lib\\site-packages (from pandas) (2023.3)\n",
      "Requirement already satisfied: numpy>=1.21.0 in c:\\users\\benja\\documents\\projets\\02_demonstrateur\\.venv\\lib\\site-packages (from pandas) (1.24.3)\n",
      "Requirement already satisfied: six>=1.5 in c:\\users\\benja\\documents\\projets\\02_demonstrateur\\.venv\\lib\\site-packages (from python-dateutil>=2.8.2->pandas) (1.16.0)\n",
      "Note: you may need to restart the kernel to use updated packages.\n",
      "Requirement already satisfied: numpy in c:\\users\\benja\\documents\\projets\\02_demonstrateur\\.venv\\lib\\site-packages (1.24.3)\n",
      "Note: you may need to restart the kernel to use updated packages.\n",
      "^C\n",
      "Note: you may need to restart the kernel to use updated packages.\n"
     ]
    }
   ],
   "source": [
    "%pip install pandas\n",
    "%pip install numpy\n",
    "%pip install streamlit"
   ]
  },
  {
   "cell_type": "code",
   "execution_count": null,
   "metadata": {},
   "outputs": [
    {
     "ename": "ModuleNotFoundError",
     "evalue": "No module named 'matplotlib'",
     "output_type": "error",
     "traceback": [
      "\u001b[1;31m---------------------------------------------------------------------------\u001b[0m",
      "\u001b[1;31mModuleNotFoundError\u001b[0m                       Traceback (most recent call last)",
      "Cell \u001b[1;32mIn[1], line 1\u001b[0m\n\u001b[1;32m----> 1\u001b[0m \u001b[39mimport\u001b[39;00m \u001b[39mmatplotlib\u001b[39;00m\u001b[39m.\u001b[39;00m\u001b[39mpyplot\u001b[39;00m \u001b[39mas\u001b[39;00m \u001b[39mplt\u001b[39;00m\n",
      "\u001b[1;31mModuleNotFoundError\u001b[0m: No module named 'matplotlib'"
     ]
    }
   ],
   "source": [
    "import matplotlib.pyplot as plt\n"
   ]
  },
  {
   "cell_type": "code",
   "execution_count": null,
   "metadata": {},
   "outputs": [
    {
     "name": "stdout",
     "output_type": "stream",
     "text": [
      "Collecting matplotlib\n",
      "  Using cached matplotlib-3.7.1-cp311-cp311-win_amd64.whl (7.6 MB)\n",
      "Collecting contourpy>=1.0.1 (from matplotlib)\n",
      "  Using cached contourpy-1.0.7-cp311-cp311-win_amd64.whl (162 kB)\n",
      "Collecting cycler>=0.10 (from matplotlib)\n",
      "  Using cached cycler-0.11.0-py3-none-any.whl (6.4 kB)\n",
      "Collecting fonttools>=4.22.0 (from matplotlib)\n",
      "  Using cached fonttools-4.39.4-py3-none-any.whl (1.0 MB)\n",
      "Collecting kiwisolver>=1.0.1 (from matplotlib)\n",
      "  Using cached kiwisolver-1.4.4-cp311-cp311-win_amd64.whl (55 kB)\n",
      "Requirement already satisfied: numpy>=1.20 in c:\\users\\benja\\documents\\projets\\02_demonstrateur\\.venv\\lib\\site-packages (from matplotlib) (1.24.3)\n",
      "Requirement already satisfied: packaging>=20.0 in c:\\users\\benja\\documents\\projets\\02_demonstrateur\\.venv\\lib\\site-packages (from matplotlib) (23.1)\n",
      "Requirement already satisfied: pillow>=6.2.0 in c:\\users\\benja\\documents\\projets\\02_demonstrateur\\.venv\\lib\\site-packages (from matplotlib) (9.5.0)\n",
      "Collecting pyparsing>=2.3.1 (from matplotlib)\n",
      "  Using cached pyparsing-3.0.9-py3-none-any.whl (98 kB)\n",
      "Requirement already satisfied: python-dateutil>=2.7 in c:\\users\\benja\\documents\\projets\\02_demonstrateur\\.venv\\lib\\site-packages (from matplotlib) (2.8.2)\n",
      "Requirement already satisfied: six>=1.5 in c:\\users\\benja\\documents\\projets\\02_demonstrateur\\.venv\\lib\\site-packages (from python-dateutil>=2.7->matplotlib) (1.16.0)\n",
      "Installing collected packages: pyparsing, kiwisolver, fonttools, cycler, contourpy, matplotlib\n",
      "Successfully installed contourpy-1.0.7 cycler-0.11.0 fonttools-4.39.4 kiwisolver-1.4.4 matplotlib-3.7.1 pyparsing-3.0.9\n",
      "Note: you may need to restart the kernel to use updated packages.\n"
     ]
    }
   ],
   "source": [
    "%pip install matplotlib"
   ]
  },
  {
   "cell_type": "code",
   "execution_count": null,
   "metadata": {},
   "outputs": [
    {
     "ename": "ModuleNotFoundError",
     "evalue": "No module named 'plotly'",
     "output_type": "error",
     "traceback": [
      "\u001b[1;31m---------------------------------------------------------------------------\u001b[0m",
      "\u001b[1;31mModuleNotFoundError\u001b[0m                       Traceback (most recent call last)",
      "Cell \u001b[1;32mIn[1], line 1\u001b[0m\n\u001b[1;32m----> 1\u001b[0m \u001b[39mimport\u001b[39;00m \u001b[39mplotly\u001b[39;00m\u001b[39m.\u001b[39;00m\u001b[39mexpress\u001b[39;00m \u001b[39mas\u001b[39;00m \u001b[39mpx\u001b[39;00m\n",
      "\u001b[1;31mModuleNotFoundError\u001b[0m: No module named 'plotly'"
     ]
    }
   ],
   "source": [
    "import plotly.express as px\n"
   ]
  },
  {
   "cell_type": "code",
   "execution_count": null,
   "metadata": {},
   "outputs": [
    {
     "name": "stdout",
     "output_type": "stream",
     "text": [
      "Collecting plotly\n",
      "  Downloading plotly-5.14.1-py2.py3-none-any.whl (15.3 MB)\n",
      "                                              0.0/15.3 MB ? eta -:--:--\n",
      "                                              0.1/15.3 MB 7.5 MB/s eta 0:00:03\n",
      "                                              0.3/15.3 MB 5.3 MB/s eta 0:00:03\n",
      "     -                                        0.6/15.3 MB 5.5 MB/s eta 0:00:03\n",
      "     --                                       0.9/15.3 MB 6.1 MB/s eta 0:00:03\n",
      "     --                                       1.1/15.3 MB 5.6 MB/s eta 0:00:03\n",
      "     ---                                      1.3/15.3 MB 5.4 MB/s eta 0:00:03\n",
      "     ----                                     1.6/15.3 MB 6.0 MB/s eta 0:00:03\n",
      "     ----                                     1.7/15.3 MB 5.5 MB/s eta 0:00:03\n",
      "     -----                                    2.0/15.3 MB 5.5 MB/s eta 0:00:03\n",
      "     ------                                   2.3/15.3 MB 5.6 MB/s eta 0:00:03\n",
      "     ------                                   2.6/15.3 MB 5.7 MB/s eta 0:00:03\n",
      "     -------                                  2.8/15.3 MB 5.5 MB/s eta 0:00:03\n",
      "     -------                                  3.0/15.3 MB 5.4 MB/s eta 0:00:03\n",
      "     -------                                  3.0/15.3 MB 5.5 MB/s eta 0:00:03\n",
      "     --------                                 3.2/15.3 MB 5.1 MB/s eta 0:00:03\n",
      "     --------                                 3.4/15.3 MB 5.0 MB/s eta 0:00:03\n",
      "     ---------                                3.6/15.3 MB 5.1 MB/s eta 0:00:03\n",
      "     ----------                               4.0/15.3 MB 5.2 MB/s eta 0:00:03\n",
      "     ----------                               4.0/15.3 MB 5.2 MB/s eta 0:00:03\n",
      "     ----------                               4.2/15.3 MB 5.0 MB/s eta 0:00:03\n",
      "     -----------                              4.5/15.3 MB 5.1 MB/s eta 0:00:03\n",
      "     ------------                             4.8/15.3 MB 5.2 MB/s eta 0:00:03\n",
      "     ------------                             4.9/15.3 MB 5.1 MB/s eta 0:00:03\n",
      "     -------------                            5.2/15.3 MB 5.2 MB/s eta 0:00:02\n",
      "     --------------                           5.4/15.3 MB 5.2 MB/s eta 0:00:02\n",
      "     --------------                           5.7/15.3 MB 5.3 MB/s eta 0:00:02\n",
      "     ---------------                          5.9/15.3 MB 5.3 MB/s eta 0:00:02\n",
      "     ---------------                          6.1/15.3 MB 5.3 MB/s eta 0:00:02\n",
      "     ----------------                         6.3/15.3 MB 5.3 MB/s eta 0:00:02\n",
      "     -----------------                        6.5/15.3 MB 5.3 MB/s eta 0:00:02\n",
      "     -----------------                        6.7/15.3 MB 5.2 MB/s eta 0:00:02\n",
      "     ------------------                       6.9/15.3 MB 5.2 MB/s eta 0:00:02\n",
      "     ------------------                       7.2/15.3 MB 5.3 MB/s eta 0:00:02\n",
      "     -------------------                      7.5/15.3 MB 5.3 MB/s eta 0:00:02\n",
      "     --------------------                     7.8/15.3 MB 5.3 MB/s eta 0:00:02\n",
      "     ---------------------                    8.1/15.3 MB 5.3 MB/s eta 0:00:02\n",
      "     ---------------------                    8.3/15.3 MB 5.3 MB/s eta 0:00:02\n",
      "     ----------------------                   8.5/15.3 MB 5.4 MB/s eta 0:00:02\n",
      "     ----------------------                   8.8/15.3 MB 5.4 MB/s eta 0:00:02\n",
      "     -----------------------                  9.0/15.3 MB 5.4 MB/s eta 0:00:02\n",
      "     ------------------------                 9.2/15.3 MB 5.4 MB/s eta 0:00:02\n",
      "     ------------------------                 9.5/15.3 MB 5.4 MB/s eta 0:00:02\n",
      "     -------------------------                9.8/15.3 MB 5.5 MB/s eta 0:00:02\n",
      "     --------------------------               10.0/15.3 MB 5.4 MB/s eta 0:00:01\n",
      "     --------------------------               10.1/15.3 MB 5.5 MB/s eta 0:00:01\n",
      "     --------------------------               10.3/15.3 MB 5.4 MB/s eta 0:00:01\n",
      "     ---------------------------              10.5/15.3 MB 5.4 MB/s eta 0:00:01\n",
      "     ---------------------------              10.7/15.3 MB 5.4 MB/s eta 0:00:01\n",
      "     ----------------------------             10.9/15.3 MB 5.4 MB/s eta 0:00:01\n",
      "     ----------------------------             11.0/15.3 MB 5.3 MB/s eta 0:00:01\n",
      "     -----------------------------            11.2/15.3 MB 5.2 MB/s eta 0:00:01\n",
      "     -----------------------------            11.3/15.3 MB 5.2 MB/s eta 0:00:01\n",
      "     ------------------------------           11.6/15.3 MB 5.2 MB/s eta 0:00:01\n",
      "     -------------------------------          11.9/15.3 MB 5.2 MB/s eta 0:00:01\n",
      "     -------------------------------          12.2/15.3 MB 5.3 MB/s eta 0:00:01\n",
      "     --------------------------------         12.5/15.3 MB 5.3 MB/s eta 0:00:01\n",
      "     ---------------------------------        12.8/15.3 MB 5.3 MB/s eta 0:00:01\n",
      "     ---------------------------------        12.9/15.3 MB 5.3 MB/s eta 0:00:01\n",
      "     ----------------------------------       13.2/15.3 MB 5.4 MB/s eta 0:00:01\n",
      "     -----------------------------------      13.4/15.3 MB 5.5 MB/s eta 0:00:01\n",
      "     -----------------------------------      13.6/15.3 MB 5.5 MB/s eta 0:00:01\n",
      "     ------------------------------------     13.8/15.3 MB 5.5 MB/s eta 0:00:01\n",
      "     ------------------------------------     14.0/15.3 MB 5.5 MB/s eta 0:00:01\n",
      "     -------------------------------------    14.3/15.3 MB 5.5 MB/s eta 0:00:01\n",
      "     --------------------------------------   14.6/15.3 MB 5.5 MB/s eta 0:00:01\n",
      "     --------------------------------------   14.8/15.3 MB 5.6 MB/s eta 0:00:01\n",
      "     ---------------------------------------  15.1/15.3 MB 5.6 MB/s eta 0:00:01\n",
      "     ---------------------------------------  15.3/15.3 MB 5.6 MB/s eta 0:00:01\n",
      "     ---------------------------------------- 15.3/15.3 MB 5.4 MB/s eta 0:00:00\n",
      "Requirement already satisfied: tenacity>=6.2.0 in c:\\users\\benja\\documents\\projets\\02_demonstrateur\\.venv\\lib\\site-packages (from plotly) (8.2.2)\n",
      "Requirement already satisfied: packaging in c:\\users\\benja\\documents\\projets\\02_demonstrateur\\.venv\\lib\\site-packages (from plotly) (23.1)\n",
      "Installing collected packages: plotly\n",
      "Successfully installed plotly-5.14.1\n",
      "Note: you may need to restart the kernel to use updated packages.\n"
     ]
    }
   ],
   "source": [
    "%pip install plotly"
   ]
  },
  {
   "cell_type": "code",
   "execution_count": 3,
   "metadata": {},
   "outputs": [
    {
     "name": "stdout",
     "output_type": "stream",
     "text": [
      "Collecting networkx\n",
      "  Using cached networkx-3.1-py3-none-any.whl (2.1 MB)\n",
      "Installing collected packages: networkx\n",
      "Successfully installed networkx-3.1\n",
      "Note: you may need to restart the kernel to use updated packages.\n"
     ]
    }
   ],
   "source": [
    "%pip install networkx"
   ]
  },
  {
   "cell_type": "code",
   "execution_count": 4,
   "metadata": {},
   "outputs": [
    {
     "name": "stdout",
     "output_type": "stream",
     "text": [
      "Collecting scipy\n",
      "  Using cached scipy-1.10.1-cp311-cp311-win_amd64.whl (42.2 MB)\n",
      "Requirement already satisfied: numpy<1.27.0,>=1.19.5 in c:\\users\\benja\\documents\\projets\\02_demonstrateur\\.venv\\lib\\site-packages (from scipy) (1.24.3)\n",
      "Installing collected packages: scipy\n",
      "Successfully installed scipy-1.10.1\n",
      "Note: you may need to restart the kernel to use updated packages.\n"
     ]
    }
   ],
   "source": [
    "%pip install scipy"
   ]
  },
  {
   "cell_type": "code",
   "execution_count": 2,
   "metadata": {},
   "outputs": [
    {
     "name": "stdout",
     "output_type": "stream",
     "text": [
      "Requirement already satisfied: streamlit in c:\\users\\benja\\documents\\projets\\02_demonstrateur\\.venv\\lib\\site-packages (1.23.1)\n",
      "Requirement already satisfied: altair<6,>=4.0 in c:\\users\\benja\\documents\\projets\\02_demonstrateur\\.venv\\lib\\site-packages (from streamlit) (5.0.1)\n",
      "Requirement already satisfied: blinker<2,>=1.0.0 in c:\\users\\benja\\documents\\projets\\02_demonstrateur\\.venv\\lib\\site-packages (from streamlit) (1.6.2)\n",
      "Requirement already satisfied: cachetools<6,>=4.0 in c:\\users\\benja\\documents\\projets\\02_demonstrateur\\.venv\\lib\\site-packages (from streamlit) (5.3.1)\n",
      "Requirement already satisfied: click<9,>=7.0 in c:\\users\\benja\\documents\\projets\\02_demonstrateur\\.venv\\lib\\site-packages (from streamlit) (8.1.3)\n",
      "Requirement already satisfied: importlib-metadata<7,>=1.4 in c:\\users\\benja\\documents\\projets\\02_demonstrateur\\.venv\\lib\\site-packages (from streamlit) (6.6.0)\n",
      "Requirement already satisfied: numpy<2,>=1 in c:\\users\\benja\\documents\\projets\\02_demonstrateur\\.venv\\lib\\site-packages (from streamlit) (1.24.3)\n",
      "Requirement already satisfied: packaging<24,>=14.1 in c:\\users\\benja\\documents\\projets\\02_demonstrateur\\.venv\\lib\\site-packages (from streamlit) (23.1)\n",
      "Requirement already satisfied: pandas<3,>=0.25 in c:\\users\\benja\\documents\\projets\\02_demonstrateur\\.venv\\lib\\site-packages (from streamlit) (2.0.2)\n",
      "Requirement already satisfied: pillow<10,>=6.2.0 in c:\\users\\benja\\documents\\projets\\02_demonstrateur\\.venv\\lib\\site-packages (from streamlit) (9.5.0)\n",
      "Requirement already satisfied: protobuf<5,>=3.20 in c:\\users\\benja\\documents\\projets\\02_demonstrateur\\.venv\\lib\\site-packages (from streamlit) (4.23.2)\n",
      "Requirement already satisfied: pyarrow>=4.0 in c:\\users\\benja\\documents\\projets\\02_demonstrateur\\.venv\\lib\\site-packages (from streamlit) (12.0.0)\n",
      "Requirement already satisfied: pympler<2,>=0.9 in c:\\users\\benja\\documents\\projets\\02_demonstrateur\\.venv\\lib\\site-packages (from streamlit) (1.0.1)\n",
      "Requirement already satisfied: python-dateutil<3,>=2 in c:\\users\\benja\\documents\\projets\\02_demonstrateur\\.venv\\lib\\site-packages (from streamlit) (2.8.2)\n",
      "Requirement already satisfied: requests<3,>=2.4 in c:\\users\\benja\\documents\\projets\\02_demonstrateur\\.venv\\lib\\site-packages (from streamlit) (2.31.0)\n",
      "Requirement already satisfied: rich<14,>=10.11.0 in c:\\users\\benja\\documents\\projets\\02_demonstrateur\\.venv\\lib\\site-packages (from streamlit) (13.4.1)\n",
      "Requirement already satisfied: tenacity<9,>=8.0.0 in c:\\users\\benja\\documents\\projets\\02_demonstrateur\\.venv\\lib\\site-packages (from streamlit) (8.2.2)\n",
      "Requirement already satisfied: toml<2 in c:\\users\\benja\\documents\\projets\\02_demonstrateur\\.venv\\lib\\site-packages (from streamlit) (0.10.2)\n",
      "Requirement already satisfied: typing-extensions<5,>=4.0.1 in c:\\users\\benja\\documents\\projets\\02_demonstrateur\\.venv\\lib\\site-packages (from streamlit) (4.6.3)\n",
      "Requirement already satisfied: tzlocal<5,>=1.1 in c:\\users\\benja\\documents\\projets\\02_demonstrateur\\.venv\\lib\\site-packages (from streamlit) (4.3)\n",
      "Requirement already satisfied: validators<1,>=0.2 in c:\\users\\benja\\documents\\projets\\02_demonstrateur\\.venv\\lib\\site-packages (from streamlit) (0.20.0)\n",
      "Requirement already satisfied: gitpython!=3.1.19,<4,>=3 in c:\\users\\benja\\documents\\projets\\02_demonstrateur\\.venv\\lib\\site-packages (from streamlit) (3.1.31)\n",
      "Requirement already satisfied: pydeck<1,>=0.1.dev5 in c:\\users\\benja\\documents\\projets\\02_demonstrateur\\.venv\\lib\\site-packages (from streamlit) (0.8.1b0)\n",
      "Requirement already satisfied: tornado<7,>=6.0.3 in c:\\users\\benja\\documents\\projets\\02_demonstrateur\\.venv\\lib\\site-packages (from streamlit) (6.3.2)\n",
      "Requirement already satisfied: watchdog in c:\\users\\benja\\documents\\projets\\02_demonstrateur\\.venv\\lib\\site-packages (from streamlit) (3.0.0)\n",
      "Requirement already satisfied: jinja2 in c:\\users\\benja\\documents\\projets\\02_demonstrateur\\.venv\\lib\\site-packages (from altair<6,>=4.0->streamlit) (3.1.2)\n",
      "Requirement already satisfied: jsonschema>=3.0 in c:\\users\\benja\\documents\\projets\\02_demonstrateur\\.venv\\lib\\site-packages (from altair<6,>=4.0->streamlit) (4.17.3)\n",
      "Requirement already satisfied: toolz in c:\\users\\benja\\documents\\projets\\02_demonstrateur\\.venv\\lib\\site-packages (from altair<6,>=4.0->streamlit) (0.12.0)\n",
      "Requirement already satisfied: colorama in c:\\users\\benja\\documents\\projets\\02_demonstrateur\\.venv\\lib\\site-packages (from click<9,>=7.0->streamlit) (0.4.6)\n",
      "Requirement already satisfied: gitdb<5,>=4.0.1 in c:\\users\\benja\\documents\\projets\\02_demonstrateur\\.venv\\lib\\site-packages (from gitpython!=3.1.19,<4,>=3->streamlit) (4.0.10)\n",
      "Requirement already satisfied: zipp>=0.5 in c:\\users\\benja\\documents\\projets\\02_demonstrateur\\.venv\\lib\\site-packages (from importlib-metadata<7,>=1.4->streamlit) (3.15.0)\n",
      "Requirement already satisfied: pytz>=2020.1 in c:\\users\\benja\\documents\\projets\\02_demonstrateur\\.venv\\lib\\site-packages (from pandas<3,>=0.25->streamlit) (2023.3)\n",
      "Requirement already satisfied: tzdata>=2022.1 in c:\\users\\benja\\documents\\projets\\02_demonstrateur\\.venv\\lib\\site-packages (from pandas<3,>=0.25->streamlit) (2023.3)\n",
      "Requirement already satisfied: six>=1.5 in c:\\users\\benja\\documents\\projets\\02_demonstrateur\\.venv\\lib\\site-packages (from python-dateutil<3,>=2->streamlit) (1.16.0)\n",
      "Requirement already satisfied: charset-normalizer<4,>=2 in c:\\users\\benja\\documents\\projets\\02_demonstrateur\\.venv\\lib\\site-packages (from requests<3,>=2.4->streamlit) (3.1.0)\n",
      "Requirement already satisfied: idna<4,>=2.5 in c:\\users\\benja\\documents\\projets\\02_demonstrateur\\.venv\\lib\\site-packages (from requests<3,>=2.4->streamlit) (3.4)\n",
      "Requirement already satisfied: urllib3<3,>=1.21.1 in c:\\users\\benja\\documents\\projets\\02_demonstrateur\\.venv\\lib\\site-packages (from requests<3,>=2.4->streamlit) (2.0.2)\n",
      "Requirement already satisfied: certifi>=2017.4.17 in c:\\users\\benja\\documents\\projets\\02_demonstrateur\\.venv\\lib\\site-packages (from requests<3,>=2.4->streamlit) (2023.5.7)\n",
      "Requirement already satisfied: markdown-it-py<3.0.0,>=2.2.0 in c:\\users\\benja\\documents\\projets\\02_demonstrateur\\.venv\\lib\\site-packages (from rich<14,>=10.11.0->streamlit) (2.2.0)\n",
      "Requirement already satisfied: pygments<3.0.0,>=2.13.0 in c:\\users\\benja\\documents\\projets\\02_demonstrateur\\.venv\\lib\\site-packages (from rich<14,>=10.11.0->streamlit) (2.15.1)\n",
      "Requirement already satisfied: pytz-deprecation-shim in c:\\users\\benja\\documents\\projets\\02_demonstrateur\\.venv\\lib\\site-packages (from tzlocal<5,>=1.1->streamlit) (0.1.0.post0)\n",
      "Requirement already satisfied: decorator>=3.4.0 in c:\\users\\benja\\documents\\projets\\02_demonstrateur\\.venv\\lib\\site-packages (from validators<1,>=0.2->streamlit) (5.1.1)\n",
      "Requirement already satisfied: smmap<6,>=3.0.1 in c:\\users\\benja\\documents\\projets\\02_demonstrateur\\.venv\\lib\\site-packages (from gitdb<5,>=4.0.1->gitpython!=3.1.19,<4,>=3->streamlit) (5.0.0)\n",
      "Requirement already satisfied: MarkupSafe>=2.0 in c:\\users\\benja\\documents\\projets\\02_demonstrateur\\.venv\\lib\\site-packages (from jinja2->altair<6,>=4.0->streamlit) (2.1.3)\n",
      "Requirement already satisfied: attrs>=17.4.0 in c:\\users\\benja\\documents\\projets\\02_demonstrateur\\.venv\\lib\\site-packages (from jsonschema>=3.0->altair<6,>=4.0->streamlit) (23.1.0)\n",
      "Requirement already satisfied: pyrsistent!=0.17.0,!=0.17.1,!=0.17.2,>=0.14.0 in c:\\users\\benja\\documents\\projets\\02_demonstrateur\\.venv\\lib\\site-packages (from jsonschema>=3.0->altair<6,>=4.0->streamlit) (0.19.3)\n",
      "Requirement already satisfied: mdurl~=0.1 in c:\\users\\benja\\documents\\projets\\02_demonstrateur\\.venv\\lib\\site-packages (from markdown-it-py<3.0.0,>=2.2.0->rich<14,>=10.11.0->streamlit) (0.1.2)\n"
     ]
    },
    {
     "ename": "ModuleNotFoundError",
     "evalue": "No module named 'networkx'",
     "output_type": "error",
     "traceback": [
      "\u001b[1;31m---------------------------------------------------------------------------\u001b[0m",
      "\u001b[1;31mModuleNotFoundError\u001b[0m                       Traceback (most recent call last)",
      "Cell \u001b[1;32mIn[2], line 1\u001b[0m\n\u001b[1;32m----> 1\u001b[0m \u001b[39mimport\u001b[39;00m \u001b[39mnetworkx\u001b[39;00m \u001b[39mas\u001b[39;00m \u001b[39mnx\u001b[39;00m\n",
      "\u001b[1;31mModuleNotFoundError\u001b[0m: No module named 'networkx'"
     ]
    }
   ],
   "source": [
    "import networkx as nx"
   ]
  },
  {
   "cell_type": "code",
   "execution_count": 5,
   "metadata": {},
   "outputs": [
    {
     "name": "stdout",
     "output_type": "stream",
     "text": [
      "Collecting pyvis\n",
      "  Downloading pyvis-0.3.2-py3-none-any.whl (756 kB)\n",
      "                                              0.0/756.0 kB ? eta -:--:--\n",
      "     --------------------                   399.4/756.0 kB 8.3 MB/s eta 0:00:01\n",
      "     -------------------------------------- 756.0/756.0 kB 7.9 MB/s eta 0:00:00\n",
      "Requirement already satisfied: ipython>=5.3.0 in c:\\users\\benja\\documents\\projets\\02_demonstrateur\\.venv\\lib\\site-packages (from pyvis) (8.14.0)\n",
      "Requirement already satisfied: jinja2>=2.9.6 in c:\\users\\benja\\documents\\projets\\02_demonstrateur\\.venv\\lib\\site-packages (from pyvis) (3.1.2)\n",
      "Collecting jsonpickle>=1.4.1 (from pyvis)\n",
      "  Downloading jsonpickle-3.0.1-py2.py3-none-any.whl (40 kB)\n",
      "                                              0.0/40.5 kB ? eta -:--:--\n",
      "     ---------------------------------------- 40.5/40.5 kB ? eta 0:00:00\n",
      "Requirement already satisfied: networkx>=1.11 in c:\\users\\benja\\documents\\projets\\02_demonstrateur\\.venv\\lib\\site-packages (from pyvis) (3.1)\n",
      "Requirement already satisfied: backcall in c:\\users\\benja\\documents\\projets\\02_demonstrateur\\.venv\\lib\\site-packages (from ipython>=5.3.0->pyvis) (0.2.0)\n",
      "Requirement already satisfied: decorator in c:\\users\\benja\\documents\\projets\\02_demonstrateur\\.venv\\lib\\site-packages (from ipython>=5.3.0->pyvis) (5.1.1)\n",
      "Requirement already satisfied: jedi>=0.16 in c:\\users\\benja\\documents\\projets\\02_demonstrateur\\.venv\\lib\\site-packages (from ipython>=5.3.0->pyvis) (0.18.2)\n",
      "Requirement already satisfied: matplotlib-inline in c:\\users\\benja\\documents\\projets\\02_demonstrateur\\.venv\\lib\\site-packages (from ipython>=5.3.0->pyvis) (0.1.6)\n",
      "Requirement already satisfied: pickleshare in c:\\users\\benja\\documents\\projets\\02_demonstrateur\\.venv\\lib\\site-packages (from ipython>=5.3.0->pyvis) (0.7.5)\n",
      "Requirement already satisfied: prompt-toolkit!=3.0.37,<3.1.0,>=3.0.30 in c:\\users\\benja\\documents\\projets\\02_demonstrateur\\.venv\\lib\\site-packages (from ipython>=5.3.0->pyvis) (3.0.38)\n",
      "Requirement already satisfied: pygments>=2.4.0 in c:\\users\\benja\\documents\\projets\\02_demonstrateur\\.venv\\lib\\site-packages (from ipython>=5.3.0->pyvis) (2.15.1)\n",
      "Requirement already satisfied: stack-data in c:\\users\\benja\\documents\\projets\\02_demonstrateur\\.venv\\lib\\site-packages (from ipython>=5.3.0->pyvis) (0.6.2)\n",
      "Requirement already satisfied: traitlets>=5 in c:\\users\\benja\\documents\\projets\\02_demonstrateur\\.venv\\lib\\site-packages (from ipython>=5.3.0->pyvis) (5.9.0)\n",
      "Requirement already satisfied: colorama in c:\\users\\benja\\documents\\projets\\02_demonstrateur\\.venv\\lib\\site-packages (from ipython>=5.3.0->pyvis) (0.4.6)\n",
      "Requirement already satisfied: MarkupSafe>=2.0 in c:\\users\\benja\\documents\\projets\\02_demonstrateur\\.venv\\lib\\site-packages (from jinja2>=2.9.6->pyvis) (2.1.3)\n",
      "Requirement already satisfied: parso<0.9.0,>=0.8.0 in c:\\users\\benja\\documents\\projets\\02_demonstrateur\\.venv\\lib\\site-packages (from jedi>=0.16->ipython>=5.3.0->pyvis) (0.8.3)\n",
      "Requirement already satisfied: wcwidth in c:\\users\\benja\\documents\\projets\\02_demonstrateur\\.venv\\lib\\site-packages (from prompt-toolkit!=3.0.37,<3.1.0,>=3.0.30->ipython>=5.3.0->pyvis) (0.2.6)\n",
      "Requirement already satisfied: executing>=1.2.0 in c:\\users\\benja\\documents\\projets\\02_demonstrateur\\.venv\\lib\\site-packages (from stack-data->ipython>=5.3.0->pyvis) (1.2.0)\n",
      "Requirement already satisfied: asttokens>=2.1.0 in c:\\users\\benja\\documents\\projets\\02_demonstrateur\\.venv\\lib\\site-packages (from stack-data->ipython>=5.3.0->pyvis) (2.2.1)\n",
      "Requirement already satisfied: pure-eval in c:\\users\\benja\\documents\\projets\\02_demonstrateur\\.venv\\lib\\site-packages (from stack-data->ipython>=5.3.0->pyvis) (0.2.2)\n",
      "Requirement already satisfied: six in c:\\users\\benja\\documents\\projets\\02_demonstrateur\\.venv\\lib\\site-packages (from asttokens>=2.1.0->stack-data->ipython>=5.3.0->pyvis) (1.16.0)\n",
      "Installing collected packages: jsonpickle, pyvis\n",
      "Successfully installed jsonpickle-3.0.1 pyvis-0.3.2\n",
      "Note: you may need to restart the kernel to use updated packages.\n"
     ]
    }
   ],
   "source": [
    "%pip install pyvis\n"
   ]
  }
 ],
 "metadata": {
  "kernelspec": {
   "display_name": ".venv",
   "language": "python",
   "name": "python3"
  },
  "language_info": {
   "codemirror_mode": {
    "name": "ipython",
    "version": 3
   },
   "file_extension": ".py",
   "mimetype": "text/x-python",
   "name": "python",
   "nbconvert_exporter": "python",
   "pygments_lexer": "ipython3",
   "version": "3.11.3"
  },
  "orig_nbformat": 4
 },
 "nbformat": 4,
 "nbformat_minor": 2
}
